{
 "cells": [
  {
   "cell_type": "markdown",
   "metadata": {},
   "source": [
    "Importing the libraries"
   ]
  },
  {
   "cell_type": "code",
   "execution_count": null,
   "metadata": {},
   "outputs": [],
   "source": [
    "import pandas as pd\n",
    "import numpy as np\n",
    "import math \n",
    "import re\n",
    "import seaborn as sns\n",
    "import matplotlib.pyplot as plt\n",
    "import plotly.express as px"
   ]
  },
  {
   "cell_type": "markdown",
   "metadata": {},
   "source": [
    "Reading the CSV file and check some information about it"
   ]
  },
  {
   "cell_type": "code",
   "execution_count": null,
   "metadata": {},
   "outputs": [],
   "source": [
    "df = pd.read_csv('glassdoorJobs_Input.csv', keep_default_na=True )"
   ]
  },
  {
   "cell_type": "code",
   "execution_count": null,
   "metadata": {},
   "outputs": [],
   "source": [
    "# Display the datatypes for each column\n",
    "print(df.dtypes)"
   ]
  },
  {
   "cell_type": "code",
   "execution_count": null,
   "metadata": {},
   "outputs": [],
   "source": [
    "# Display the DataFrame information\n",
    "df.info()"
   ]
  },
  {
   "cell_type": "code",
   "execution_count": null,
   "metadata": {},
   "outputs": [],
   "source": [
    "# Display the DataFrame statistics \n",
    "df.describe()"
   ]
  },
  {
   "cell_type": "markdown",
   "metadata": {},
   "source": [
    " Function to convert the indian currency to american currency"
   ]
  },
  {
   "cell_type": "code",
   "execution_count": null,
   "metadata": {},
   "outputs": [],
   "source": [
    "def convert_to_american_format(indian_currency):\n",
    "\n",
    "    # Check if the value is NaN to convert to 0\n",
    "    if isinstance(indian_currency, float) and math.isnan(indian_currency):\n",
    "        indian_currency = 0\n",
    "    \n",
    "    # Check if the value is numeric  (float, int, Decimal, etc.)\n",
    "    if isinstance(indian_currency, (float, int)):\n",
    "        numeric_value = int(float(indian_currency))  # Converte para float e depois para int\n",
    "    else:\n",
    "        # Convert to String to remove currency symbol and commas\n",
    "        indian_currency = str(indian_currency).replace(\"₹\", \"\").replace(\",\", \"\")\n",
    "        numeric_value = int(float(indian_currency))  # Convert to float before int\n",
    "    \n",
    "    # Format the number to american style (mthousands separated by comma)\n",
    "    american_format = f\"{numeric_value}\"\n",
    "    \n",
    "    return f\"{american_format}\""
   ]
  },
  {
   "cell_type": "markdown",
   "metadata": {},
   "source": [
    "Function to remove special characters from the pay period"
   ]
  },
  {
   "cell_type": "code",
   "execution_count": null,
   "metadata": {},
   "outputs": [],
   "source": [
    "def convert_payperiod(payperiod):\n",
    "    payperiod = str(payperiod)\n",
    "    if payperiod == '/yr (est.)':\n",
    "        # Replace '/yr (est.)' by 'yearly'\n",
    "        payperiod = re.sub(r\"/yr \\(est.\\)\", \"yearly\", payperiod)\n",
    "    elif payperiod == '/mo (est.)':\n",
    "        # Replace '/mo (est.)' by 'monthly'\n",
    "        payperiod = re.sub(r\"/mo \\(est.\\)\", \"monthly\", payperiod)\n",
    "    elif payperiod == '/hr (est.)':\n",
    "        # Replace '/hr (est.)' by 'hourly'\n",
    "        payperiod = re.sub(r\"/hr \\(est.\\)\", \"hourly\", payperiod)\n",
    "    else:\n",
    "        payperiod = \"unknown\"\n",
    "    return payperiod\n"
   ]
  },
  {
   "cell_type": "markdown",
   "metadata": {},
   "source": [
    "\n",
    " Function to convert the hourly and monthly salary to yearly"
   ]
  },
  {
   "cell_type": "code",
   "execution_count": null,
   "metadata": {},
   "outputs": [],
   "source": [
    "def convert_salary_to_yearly(salary, frequency):\n",
    "    salary = salary.replace(\"$\",\"\")\n",
    "    salary = salary.replace(\",\",\"\")\n",
    "    salary = int(salary)\n",
    "    if frequency == \"hourly\":\n",
    "        # Suppose 40 hours per week, 52 weeks per year\n",
    "        return salary * 40 * 52\n",
    "    elif frequency == \"monthly\":\n",
    "        # Multiplying by 12 to convert to Yearly\n",
    "        return salary * 12\n",
    "    elif frequency == \"yearly\":\n",
    "        # If annual salary, return original value\n",
    "        return salary\n",
    "    else:\n",
    "        pass"
   ]
  },
  {
   "cell_type": "markdown",
   "metadata": {},
   "source": [
    "Starting data transformation to replace NaN and '--' to 'Unknown' for cleaness purpose"
   ]
  },
  {
   "cell_type": "code",
   "execution_count": null,
   "metadata": {},
   "outputs": [],
   "source": [
    "# invoke the convert_to_american_format function and create a new column with the result\n",
    "#df.converted_salary = df.salary_avg_estimate.apply(convert_to_american_format)\n",
    "df.salary_avg_estimate = df.salary_avg_estimate.apply(convert_to_american_format)"
   ]
  },
  {
   "cell_type": "code",
   "execution_count": null,
   "metadata": {},
   "outputs": [],
   "source": [
    "print(df.dtypes)"
   ]
  },
  {
   "cell_type": "code",
   "execution_count": null,
   "metadata": {},
   "outputs": [],
   "source": [
    "# invoke the convert_payperiod function and create a new column with the result\n",
    "df.converted_payperiod = df.salary_estimate_payperiod.apply(convert_payperiod)"
   ]
  },
  {
   "cell_type": "code",
   "execution_count": null,
   "metadata": {},
   "outputs": [],
   "source": [
    "# invoke the converted_salary function and create a new column with the result\n",
    "df.converted_annually_salary = df.apply(lambda row: convert_salary_to_yearly(row.converted_salary, row.converted_payperiod), axis=1)"
   ]
  },
  {
   "cell_type": "code",
   "execution_count": null,
   "metadata": {},
   "outputs": [],
   "source": [
    "# Replace rows with string value from NaN' to 'Unknown' for the fields below\n",
    "df.company = df.company.fillna('Unknown')\n",
    "df.job_description = df.job_description.fillna('Unknown')\n",
    "df.salary_avg_estimate = df.salary_avg_estimate.fillna('Unknown')\n",
    "df.salary_estimate_payperiod = df.salary_estimate_payperiod.fillna('Unknown')\n",
    "df.company_size = df.company_size.fillna('Unknown')\n",
    "df.company_founded = df.company_founded.fillna('Unknown')\n",
    "df.employment_type = df.employment_type.fillna('Unknown')\n",
    "df.industry = df.industry.fillna('Unknown')\n",
    "df.sector = df.sector.fillna('Unknown')\n",
    "df.revenue = df.revenue.fillna('Unknown / Non-Applicable')"
   ]
  },
  {
   "cell_type": "code",
   "execution_count": null,
   "metadata": {},
   "outputs": [],
   "source": [
    "# Replace rows with string value from '--' to 'Unknown' for the fields below\n",
    "df.industry = df.industry.replace('--', 'Unknown')\n",
    "df.sector = df.industry.replace('--', 'Unknown')\n",
    "df.company_founded = df.company_founded.replace('--', 'Unknown')"
   ]
  },
  {
   "cell_type": "code",
   "execution_count": null,
   "metadata": {},
   "outputs": [],
   "source": [
    "# Converting the salary_avg_estimate column to INT to calculate purposes\n",
    "df.salary_avg_estimate = df.salary_avg_estimate.astype(int)"
   ]
  },
  {
   "cell_type": "code",
   "execution_count": null,
   "metadata": {},
   "outputs": [],
   "source": [
    "# Converting the df.salary_avg_estimate to a NumPy array\n",
    "avgSalary = df.salary_avg_estimate.to_numpy()"
   ]
  },
  {
   "cell_type": "code",
   "execution_count": null,
   "metadata": {},
   "outputs": [],
   "source": [
    "df"
   ]
  },
  {
   "cell_type": "code",
   "execution_count": null,
   "metadata": {},
   "outputs": [],
   "source": [
    "# display the dataframe information after data wrangling\n",
    "df.info()"
   ]
  },
  {
   "cell_type": "code",
   "execution_count": null,
   "metadata": {},
   "outputs": [],
   "source": [
    "# display the dataframe statistics after data wrangling\n",
    "df.describe()"
   ]
  },
  {
   "cell_type": "markdown",
   "metadata": {},
   "source": [
    "Evaluating the rating grouped by the categorical columns such as Company Size, Company Revenue, Employment Type, and Sector"
   ]
  },
  {
   "cell_type": "code",
   "execution_count": null,
   "metadata": {},
   "outputs": [],
   "source": [
    "df.groupby(by='revenue').mean()[['company_rating','culture_and_values_rating','senior_management_rating','work_life_balance_rating','comp_and_benefits_rating','career_opportunities_rating']].round(2).reset_index().nlargest(10, 'company_rating')"
   ]
  },
  {
   "cell_type": "code",
   "execution_count": null,
   "metadata": {},
   "outputs": [],
   "source": [
    "df.groupby(by='company_size').mean()[['company_rating','culture_and_values_rating','senior_management_rating','work_life_balance_rating','comp_and_benefits_rating','career_opportunities_rating']].round(2).reset_index().nlargest(10, 'company_rating')"
   ]
  },
  {
   "cell_type": "code",
   "execution_count": null,
   "metadata": {},
   "outputs": [],
   "source": [
    "df.groupby(by='employment_type').mean()[['company_rating','culture_and_values_rating','senior_management_rating','work_life_balance_rating','comp_and_benefits_rating','career_opportunities_rating']].round(2).reset_index().nlargest(10, 'company_rating')"
   ]
  },
  {
   "cell_type": "code",
   "execution_count": null,
   "metadata": {},
   "outputs": [],
   "source": [
    "df.groupby(by='sector').mean()[['company_rating','culture_and_values_rating','senior_management_rating','work_life_balance_rating','comp_and_benefits_rating','career_opportunities_rating']].round(2).reset_index().nlargest(10, 'company_rating')"
   ]
  },
  {
   "cell_type": "code",
   "execution_count": null,
   "metadata": {},
   "outputs": [],
   "source": [
    "df.groupby(by='location').mean()[['company_rating','culture_and_values_rating','senior_management_rating','work_life_balance_rating','comp_and_benefits_rating','career_opportunities_rating']].round(2).reset_index().nlargest(10, 'company_rating')"
   ]
  },
  {
   "cell_type": "code",
   "execution_count": null,
   "metadata": {},
   "outputs": [],
   "source": [
    "#df.company_size.value_counts(normalize=False)\n",
    "# Group and sort by 'company_size'\n",
    "df.groupby('company_size').size().reset_index(name='count').sort_values(by='count', ascending=False)"
   ]
  },
  {
   "cell_type": "code",
   "execution_count": null,
   "metadata": {},
   "outputs": [],
   "source": [
    "plt.figure(figsize=(10,5))\n",
    "plt.title('Jobs by Company Size')\n",
    "plt.barh(df.company_size.value_counts().index, df.company_size.value_counts())\n",
    "plt.xticks( rotation=45, ha='right' )\n",
    "plt.gca().invert_yaxis()\n",
    "plt.show;"
   ]
  },
  {
   "cell_type": "code",
   "execution_count": null,
   "metadata": {},
   "outputs": [],
   "source": [
    "#df.revenue.value_counts(normalize=False)\n",
    "# Group and sort by 'revenue'\n",
    "df.groupby('revenue').size().reset_index(name='count').sort_values(by='count', ascending=False)"
   ]
  },
  {
   "cell_type": "code",
   "execution_count": null,
   "metadata": {},
   "outputs": [],
   "source": [
    "plt.figure(figsize=(10,5))\n",
    "plt.title('Jobs by Company Revenue')\n",
    "plt.barh(df.revenue.value_counts().index, df.revenue.value_counts())\n",
    "plt.xticks( rotation=45, ha='right' )\n",
    "plt.gca().invert_yaxis()\n",
    "plt.show;"
   ]
  },
  {
   "cell_type": "code",
   "execution_count": null,
   "metadata": {},
   "outputs": [],
   "source": [
    "# Group and sort by 'employment_type'\n",
    "empType=df.groupby('employment_type').size().reset_index(name='count').sort_values(by='count', ascending=False)\n",
    "empType"
   ]
  },
  {
   "cell_type": "code",
   "execution_count": null,
   "metadata": {},
   "outputs": [],
   "source": [
    "plt.figure(figsize=(10,5))\n",
    "plt.title('Jobs by Employment Type')\n",
    "plt.barh(df.groupby('employment_type').reset_index(name='count').sort_values(by='count', ascending=False), df.groupby('employment_type').reset_index(name='count').sort_values(by='count', ascending=False))\n",
    "plt.xticks( rotation=45, ha='right' )\n",
    "plt.gca().invert_yaxis()\n",
    "plt.show;"
   ]
  },
  {
   "cell_type": "code",
   "execution_count": null,
   "metadata": {},
   "outputs": [],
   "source": [
    "fig = px.funnel(empType, x='count', y='employment type', title='Jobs by Employment Type')\n",
    "fig.update_layout(title={'x': 0.5}) # centralize the title\n",
    "fig.show();"
   ]
  },
  {
   "cell_type": "code",
   "execution_count": null,
   "metadata": {},
   "outputs": [],
   "source": [
    "# Group and sort by sector\n",
    "sectorCount = df.groupby('sector').size().reset_index(name='count')\n",
    "\n",
    "# Filter and sort the sector with counter equal or bigger than 10\n",
    "sectorCount_filtered = sectorCount[sectorCount['count'] >= 10].sort_values(by='count', ascending=False)\n",
    "sectorCount_filtered"
   ]
  },
  {
   "cell_type": "code",
   "execution_count": null,
   "metadata": {},
   "outputs": [],
   "source": [
    "plt.figure(figsize=(10,5))\n",
    "plt.title('Jobs by Sector')\n",
    "plt.barh(sectorCount_filtered, sectorCount_filtered)\n",
    "plt.xticks( rotation=45, ha='right' )\n",
    "plt.gca().invert_yaxis()\n",
    "plt.show;"
   ]
  },
  {
   "cell_type": "code",
   "execution_count": null,
   "metadata": {},
   "outputs": [],
   "source": [
    "fig = px.funnel(sectorCount_filtered, x='count', y='sector', title='Jobs by Sector (top 10)')\n",
    "fig.update_layout(title={'x': 0.5}) # centralize the title\n",
    "fig.show()"
   ]
  },
  {
   "cell_type": "code",
   "execution_count": null,
   "metadata": {},
   "outputs": [],
   "source": [
    "# Group and sort by sector\n",
    "roleCount = df.groupby('job_title').size().reset_index(name='count')\n",
    "\n",
    "# Filter and sort the sector with counting equal or bigger than 10\n",
    "roleCount_filtered = roleCount[roleCount['count'] >= 10].sort_values(by='count', ascending=False)\n",
    "roleCount_filtered"
   ]
  },
  {
   "cell_type": "code",
   "execution_count": null,
   "metadata": {},
   "outputs": [],
   "source": [
    "plt.figure( figsize=(15,6) )\n",
    "plt.title('Jobs by Role')\n",
    "plt.pie(\n",
    "    roleCount_filtered.head(10),\n",
    "    labels = roleCount_filtered.index[0:10],\n",
    "    shadow=True,\n",
    "    startangle=90,\n",
    "    autopct='%1.1f%%'\n",
    ");"
   ]
  },
  {
   "cell_type": "code",
   "execution_count": null,
   "metadata": {},
   "outputs": [],
   "source": [
    "plt.figure(figsize=(10,5))\n",
    "plt.title('Jobs by Role')\n",
    "plt.barh(roleCount_filtered, roleCount_filtered)\n",
    "plt.xticks( rotation=45, ha='right' )\n",
    "plt.gca().invert_yaxis()\n",
    "plt.show;"
   ]
  },
  {
   "cell_type": "code",
   "execution_count": null,
   "metadata": {},
   "outputs": [],
   "source": [
    "# Group and sort by Location\n",
    "localCount = df.groupby('location').size().reset_index(name='count')\n",
    "\n",
    "# Filter and sort the sector with counter equal or bigger than 10\n",
    "localCountFiltered = localCount[localCount['count'] >= 10].sort_values(by='count', ascending=False)\n",
    "localCountFiltered"
   ]
  },
  {
   "cell_type": "markdown",
   "metadata": {},
   "source": [
    "Evaluating the Company rating by Sector, Company Size, Company Revenue, Employment Type and Location"
   ]
  },
  {
   "cell_type": "code",
   "execution_count": null,
   "metadata": {},
   "outputs": [],
   "source": [
    "# Group and sort by sector\n",
    "sectorRattingAvg = df.groupby(by='sector').mean()['company_rating'].reset_index(name='mean').round(2)\n",
    "\n",
    "# Filter and sort the sector with counter equal or bigger than 10\n",
    "sectorAvgFiltered = sectorRattingAvg[sectorRattingAvg['mean'] >= 4].sort_values(by='mean', ascending=False)\n",
    "sectorAvgFiltered"
   ]
  },
  {
   "cell_type": "code",
   "execution_count": null,
   "metadata": {},
   "outputs": [],
   "source": [
    "plt.figure(figsize=(10,5))\n",
    "plt.title('Jobs by Role')\n",
    "plt.barh(sectorAvgFiltered.index, sectorAvgFiltered)\n",
    "plt.xticks( rotation=45, ha='right' )\n",
    "plt.gca().invert_yaxis()\n",
    "plt.show();"
   ]
  },
  {
   "cell_type": "code",
   "execution_count": null,
   "metadata": {},
   "outputs": [],
   "source": [
    "plt.figure(figsize=(10,5))\n",
    "plt.title('Jobs by Company Revenue')\n",
    "plt.barh(df.revenue.value_counts().index, df.revenue.value_counts())\n",
    "plt.xticks( rotation=45, ha='right' )\n",
    "plt.gca().invert_yaxis()\n",
    "plt.show();"
   ]
  },
  {
   "cell_type": "code",
   "execution_count": null,
   "metadata": {},
   "outputs": [],
   "source": [
    "df.groupby(by='company_size').mean()['company_rating'].reset_index(name='mean').sort_values(by='mean', ascending=False).round(2)"
   ]
  },
  {
   "cell_type": "code",
   "execution_count": null,
   "metadata": {},
   "outputs": [],
   "source": [
    "df.groupby(by='revenue').mean()['company_rating'].reset_index(name='mean').sort_values(by='mean', ascending=False).round(2)"
   ]
  },
  {
   "cell_type": "code",
   "execution_count": null,
   "metadata": {},
   "outputs": [],
   "source": [
    "df.groupby(by='employment_type').mean()['company_rating'].reset_index(name='mean').sort_values(by='mean', ascending=False).round(2)"
   ]
  },
  {
   "cell_type": "markdown",
   "metadata": {},
   "source": [
    "Descritive Statistics: correlation, mean, median, mode, variance and standard deviation"
   ]
  },
  {
   "cell_type": "code",
   "execution_count": null,
   "metadata": {},
   "outputs": [],
   "source": [
    "df.corr()"
   ]
  },
  {
   "cell_type": "code",
   "execution_count": null,
   "metadata": {},
   "outputs": [],
   "source": [
    "sns.heatmap(df.corr(), annot=True);"
   ]
  },
  {
   "cell_type": "code",
   "execution_count": null,
   "metadata": {},
   "outputs": [],
   "source": [
    "# Converting the df.salary_avg_estimate to a NumPy array\n",
    "avgSalary = df.salary_avg_estimate.to_numpy()"
   ]
  },
  {
   "cell_type": "code",
   "execution_count": null,
   "metadata": {},
   "outputs": [],
   "source": [
    "# Mean\n",
    "#print(f'Mean is {df.salary_avg_estimate.mean():.2f}')\n",
    "print(f'Mean is {np.mean(avgSalary):.2f}')"
   ]
  },
  {
   "cell_type": "code",
   "execution_count": null,
   "metadata": {},
   "outputs": [],
   "source": [
    "# Median\n",
    "#print(f'Median is {df.salary_avg_estimate.median():.2f}')\n",
    "print(f'Median is {np.median(avgSalary):.2f}')"
   ]
  },
  {
   "cell_type": "code",
   "execution_count": null,
   "metadata": {},
   "outputs": [],
   "source": [
    "# Mode\n",
    "print(f'Mode is {df.salary_avg_estimate.mode()}')"
   ]
  },
  {
   "cell_type": "code",
   "execution_count": null,
   "metadata": {},
   "outputs": [],
   "source": [
    "# St Deviation\n",
    "#print(f'Standard Deviation is {df.salary_avg_estimate.std():.2f}')\n",
    "print(f'Standard Deviation is {np.std(avgSalary):.2f}')"
   ]
  },
  {
   "cell_type": "code",
   "execution_count": null,
   "metadata": {},
   "outputs": [],
   "source": [
    "# Variance\n",
    "#print(f'Variance is {df.salary_avg_estimate.var():.2f}')\n",
    "print(f'Variance is {np.var(avgSalary):.2f}')"
   ]
  },
  {
   "cell_type": "code",
   "execution_count": null,
   "metadata": {},
   "outputs": [],
   "source": [
    "sns.scatterplot(data=df, x='company_rating', y='career_opportunities_rating')\n",
    "plt.title(\"Correlation between Company Rating and Career Opportunities Rating\");"
   ]
  },
  {
   "cell_type": "code",
   "execution_count": null,
   "metadata": {},
   "outputs": [],
   "source": [
    "sns.scatterplot(data=df, x='company_rating', y='culture_and_values_rating')\n",
    "plt.title(\"Correlation between Company Rating and Culture and Values Rating\");"
   ]
  },
  {
   "cell_type": "code",
   "execution_count": null,
   "metadata": {},
   "outputs": [],
   "source": [
    "sns.scatterplot(data=df, x='company_rating', y='comp_and_benefits_rating')\n",
    "plt.title(\"Correlation between Company Rating and Comp and Benefits Rating\");"
   ]
  },
  {
   "cell_type": "code",
   "execution_count": null,
   "metadata": {},
   "outputs": [],
   "source": [
    "sns.scatterplot(data=df, x='company_rating', y='senior_management_rating')\n",
    "plt.title(\"Correlation between Company Rating and Senior Management Rating\");"
   ]
  },
  {
   "cell_type": "code",
   "execution_count": null,
   "metadata": {},
   "outputs": [],
   "source": [
    "sns.scatterplot(data=df, x='company_rating', y='work_life_balance_rating')\n",
    "plt.title(\"Correlation between Company Rating and Work-Life Balance Rating\");"
   ]
  },
  {
   "cell_type": "code",
   "execution_count": null,
   "metadata": {},
   "outputs": [],
   "source": [
    "plt.figure(figsize=(8, 6))\n",
    "sns.regplot(data=df, x='company_rating', y='work_life_balance_rating', scatter_kws={'s': 50})  # scatter_kws ajusta o tamanho dos pontos\n",
    "plt.title(\"Correlation between Company Rating and Work-Life Balance Rating\")\n",
    "plt.show()"
   ]
  },
  {
   "cell_type": "code",
   "execution_count": null,
   "metadata": {},
   "outputs": [],
   "source": [
    "# save the Dataframe content to a CSV file \n",
    "df.to_csv('glassdoorJobs_Output.csv')"
   ]
  }
 ],
 "metadata": {
  "kernelspec": {
   "display_name": "base",
   "language": "python",
   "name": "python3"
  },
  "language_info": {
   "codemirror_mode": {
    "name": "ipython",
    "version": 3
   },
   "file_extension": ".py",
   "mimetype": "text/x-python",
   "name": "python",
   "nbconvert_exporter": "python",
   "pygments_lexer": "ipython3",
   "version": "3.9.13"
  }
 },
 "nbformat": 4,
 "nbformat_minor": 2
}
