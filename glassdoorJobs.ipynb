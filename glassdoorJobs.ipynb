{
 "cells": [
  {
   "cell_type": "markdown",
   "metadata": {},
   "source": [
    "Author: Elaine da Silva\n",
    "Date: 11/15/2024\n",
    "Assignment5: Exploring a dataset Glassdoor Job Data Science 2024 downloaded on Kaggle.\n",
    "Course: DBAS3018"
   ]
  },
  {
   "cell_type": "markdown",
   "metadata": {},
   "source": [
    "Importing the libraries"
   ]
  },
  {
   "cell_type": "code",
   "execution_count": 1,
   "metadata": {},
   "outputs": [],
   "source": [
    "import pandas as pd\n",
    "import numpy as np\n",
    "import math \n",
    "import re\n",
    "import seaborn as sns\n",
    "#import matplotlib.pyplot as plt\n",
    "#import plotly.express as px"
   ]
  },
  {
   "cell_type": "markdown",
   "metadata": {},
   "source": [
    "Reading the CSV file and check some information about it"
   ]
  },
  {
   "cell_type": "code",
   "execution_count": 2,
   "metadata": {},
   "outputs": [],
   "source": [
    "df = pd.read_csv('glassdoorJobs_Input.csv', keep_default_na=True )"
   ]
  },
  {
   "cell_type": "code",
   "execution_count": 3,
   "metadata": {},
   "outputs": [
    {
     "name": "stdout",
     "output_type": "stream",
     "text": [
      "company                         object\n",
      "job_title                       object\n",
      "company_rating                 float64\n",
      "job_description                 object\n",
      "location                        object\n",
      "salary_avg_estimate             object\n",
      "salary_estimate_payperiod       object\n",
      "company_size                    object\n",
      "company_founded                 object\n",
      "employment_type                 object\n",
      "industry                        object\n",
      "sector                          object\n",
      "revenue                         object\n",
      "career_opportunities_rating    float64\n",
      "comp_and_benefits_rating       float64\n",
      "culture_and_values_rating      float64\n",
      "senior_management_rating       float64\n",
      "work_life_balance_rating       float64\n",
      "dtype: object\n"
     ]
    }
   ],
   "source": [
    "# Display the datatypes for each column\n",
    "print(df.dtypes)"
   ]
  },
  {
   "cell_type": "code",
   "execution_count": null,
   "metadata": {},
   "outputs": [],
   "source": [
    "# Display the DataFrame information\n",
    "df.info()"
   ]
  },
  {
   "cell_type": "code",
   "execution_count": null,
   "metadata": {},
   "outputs": [],
   "source": [
    "# Display the DataFrame statistics \n",
    "df.describe()"
   ]
  },
  {
   "cell_type": "markdown",
   "metadata": {},
   "source": [
    " Function to convert the indian currency to american currency"
   ]
  },
  {
   "cell_type": "code",
   "execution_count": 4,
   "metadata": {},
   "outputs": [],
   "source": [
    "def convert_to_american_format(indian_currency):\n",
    "\n",
    "    # Check if the value is NaN to convert to 0\n",
    "    if isinstance(indian_currency, float) and math.isnan(indian_currency):\n",
    "        indian_currency = 0\n",
    "    \n",
    "    # Check if the value is numeric  (float, int, Decimal, etc.)\n",
    "    if isinstance(indian_currency, (float, int)):\n",
    "        numeric_value = int(float(indian_currency))  # Converte para float e depois para int\n",
    "    else:\n",
    "        # Convert to String to remove currency symbol and commas\n",
    "        indian_currency = str(indian_currency).replace(\"₹\", \"\").replace(\",\", \"\")\n",
    "        numeric_value = int(float(indian_currency))  # Convert to float before int\n",
    "    \n",
    "    # Format the number to american style (mthousands separated by comma)\n",
    "    american_format = f\"{numeric_value}\"\n",
    "    \n",
    "    return f\"{american_format}\""
   ]
  },
  {
   "cell_type": "markdown",
   "metadata": {},
   "source": [
    "Starting data transformation to replace NaN and '--' to 'Unknown' for cleaness purpose"
   ]
  },
  {
   "cell_type": "code",
   "execution_count": 5,
   "metadata": {},
   "outputs": [],
   "source": [
    "# invoke the convert_to_american_format function and create a new column with the result\n",
    "#df.converted_salary = df.salary_avg_estimate.apply(convert_to_american_format)\n",
    "df.salary_avg_estimate = df.salary_avg_estimate.apply(convert_to_american_format)"
   ]
  },
  {
   "cell_type": "code",
   "execution_count": 6,
   "metadata": {},
   "outputs": [],
   "source": [
    "# Replace rows with string value from NaN' to 'Unknown' for the fields below\n",
    "df.company = df.company.fillna('Unknown')\n",
    "df.job_description = df.job_description.fillna('Unknown')\n",
    "df.salary_avg_estimate = df.salary_avg_estimate.fillna('Unknown')\n",
    "df.salary_estimate_payperiod = df.salary_estimate_payperiod.fillna('Unknown')\n",
    "df.company_size = df.company_size.fillna('Unknown')\n",
    "df.company_founded = df.company_founded.fillna('Unknown')\n",
    "df.employment_type = df.employment_type.fillna('Unknown')\n",
    "df.industry = df.industry.fillna('Unknown')\n",
    "df.sector = df.sector.fillna('Unknown')\n",
    "df.revenue = df.revenue.fillna('Unknown / Non-Applicable')"
   ]
  },
  {
   "cell_type": "code",
   "execution_count": 7,
   "metadata": {},
   "outputs": [],
   "source": [
    "# Replace rows with string value from '--' to 'Unknown' for the fields below\n",
    "df.industry = df.industry.replace('--', 'Unknown')\n",
    "df.sector = df.industry.replace('--', 'Unknown')\n",
    "df.company_founded = df.company_founded.replace('--', 'Unknown')"
   ]
  },
  {
   "cell_type": "code",
   "execution_count": 8,
   "metadata": {},
   "outputs": [],
   "source": [
    "# Converting the salary_avg_estimate column to INT to calculate purposes\n",
    "df.salary_avg_estimate = df.salary_avg_estimate.astype(int)"
   ]
  },
  {
   "cell_type": "code",
   "execution_count": 9,
   "metadata": {},
   "outputs": [],
   "source": [
    "# Converting the df.salary_avg_estimate to a NumPy array\n",
    "avgSalary = df.salary_avg_estimate.to_numpy()"
   ]
  },
  {
   "cell_type": "code",
   "execution_count": null,
   "metadata": {},
   "outputs": [],
   "source": [
    "# display the dataframe information after data wrangling\n",
    "df.info()"
   ]
  },
  {
   "cell_type": "code",
   "execution_count": null,
   "metadata": {},
   "outputs": [],
   "source": [
    "# display the dataframe statistics after data wrangling\n",
    "df.describe()"
   ]
  },
  {
   "cell_type": "markdown",
   "metadata": {},
   "source": [
    "Grouping information based on the categorical columns:\n",
    "Sector, Company Size, Company Revenue, Employment Type, Job Title, and Location."
   ]
  },
  {
   "cell_type": "code",
   "execution_count": null,
   "metadata": {},
   "outputs": [],
   "source": [
    "# Group and sort by 'company_size'\n",
    "#df.company_size.value_counts(normalize=False)\n",
    "df.groupby('company_size').size().reset_index(name='count').sort_values(by='count', ascending=False)"
   ]
  },
  {
   "cell_type": "code",
   "execution_count": null,
   "metadata": {},
   "outputs": [],
   "source": [
    "#df.revenue.value_counts(normalize=False)\n",
    "# Group and sort by 'revenue'\n",
    "df.groupby('revenue').size().reset_index(name='count').sort_values(by='count', ascending=False)"
   ]
  },
  {
   "cell_type": "code",
   "execution_count": null,
   "metadata": {},
   "outputs": [],
   "source": [
    "# Group and sort by 'employment_type'\n",
    "empType=df.groupby('employment_type').size().reset_index(name='count').sort_values(by='count', ascending=False)\n",
    "print(empType)"
   ]
  },
  {
   "cell_type": "code",
   "execution_count": null,
   "metadata": {},
   "outputs": [],
   "source": [
    "# Group and sort by sector\n",
    "sectorCount = df.groupby('sector').size().reset_index(name='count')\n",
    "\n",
    "# Filter and sort the sector with counter equal or bigger than 10\n",
    "sectorCount_filtered = sectorCount[sectorCount['count'] >= 10].sort_values(by='count', ascending=False)\n",
    "print(sectorCount_filtered)"
   ]
  },
  {
   "cell_type": "code",
   "execution_count": null,
   "metadata": {},
   "outputs": [],
   "source": [
    "# Group and sort by job_title\n",
    "roleCount = df.groupby('job_title').size().reset_index(name='count')\n",
    "\n",
    "# Filter and sort the sector with counting equal or bigger than 10\n",
    "roleCount_filtered = roleCount[roleCount['count'] >= 10].sort_values(by='count', ascending=False)\n",
    "print(roleCount_filtered)"
   ]
  },
  {
   "cell_type": "code",
   "execution_count": null,
   "metadata": {},
   "outputs": [],
   "source": [
    "# Group and sort by Location\n",
    "localCount = df.groupby('location').size().reset_index(name='count')\n",
    "\n",
    "# Filter and sort the sector with counter equal or bigger than 10\n",
    "localCount_filtered = localCount[localCount['count'] >= 10].sort_values(by='count', ascending=False)\n",
    "print(localCount_filtered)"
   ]
  },
  {
   "cell_type": "markdown",
   "metadata": {},
   "source": [
    "Evaluating the Company rating by Sector, Company Size, Company Revenue, Employment Type and Location"
   ]
  },
  {
   "cell_type": "code",
   "execution_count": null,
   "metadata": {},
   "outputs": [],
   "source": [
    "# Group and sort by sector\n",
    "sectorRattingAvg = df.groupby(by='sector').mean()['company_rating'].reset_index(name='mean').round(2)\n",
    "\n",
    "# Filter and sort the sector with counter equal or bigger than 10\n",
    "sectorAvg_filtered = sectorRattingAvg[sectorRattingAvg['mean'] >= 4].sort_values(by='mean', ascending=False)\n",
    "print(sectorAvg_filtered)"
   ]
  },
  {
   "cell_type": "code",
   "execution_count": null,
   "metadata": {},
   "outputs": [],
   "source": [
    "# Group and sort by company size\n",
    "df.groupby(by='company_size').mean()['company_rating'].reset_index(name='mean').sort_values(by='mean', ascending=False).round(2)"
   ]
  },
  {
   "cell_type": "code",
   "execution_count": null,
   "metadata": {},
   "outputs": [],
   "source": [
    "# Group and sort by company revenue\n",
    "df.groupby(by='revenue').mean()['company_rating'].reset_index(name='mean').sort_values(by='mean', ascending=False).round(2)"
   ]
  },
  {
   "cell_type": "code",
   "execution_count": null,
   "metadata": {},
   "outputs": [],
   "source": [
    "# Group and sort by employment_type\n",
    "df.groupby(by='employment_type').mean()['company_rating'].reset_index(name='mean').sort_values(by='mean', ascending=False).round(2)"
   ]
  },
  {
   "cell_type": "code",
   "execution_count": null,
   "metadata": {},
   "outputs": [],
   "source": [
    "# Group and sort by location\n",
    "df.groupby(by='location').mean()['company_rating'].reset_index(name='mean').sort_values(by='mean', ascending=False).round(2)"
   ]
  },
  {
   "cell_type": "markdown",
   "metadata": {},
   "source": [
    "Descritive Statistics: correlation, mean, median, mode, variance and standard deviation"
   ]
  },
  {
   "cell_type": "code",
   "execution_count": null,
   "metadata": {},
   "outputs": [],
   "source": [
    "df.corr()"
   ]
  },
  {
   "cell_type": "code",
   "execution_count": null,
   "metadata": {},
   "outputs": [],
   "source": [
    "sns.heatmap(df.corr(), annot=True);"
   ]
  },
  {
   "cell_type": "code",
   "execution_count": null,
   "metadata": {},
   "outputs": [],
   "source": [
    "# Mean\n",
    "#print(f'Mean is {df.salary_avg_estimate.mean():.2f}')\n",
    "print(f'Mean is {np.mean(avgSalary):.2f}')"
   ]
  },
  {
   "cell_type": "code",
   "execution_count": null,
   "metadata": {},
   "outputs": [],
   "source": [
    "# Median\n",
    "#print(f'Median is {df.salary_avg_estimate.median():.2f}')\n",
    "print(f'Median is {np.median(avgSalary):.2f}')"
   ]
  },
  {
   "cell_type": "code",
   "execution_count": null,
   "metadata": {},
   "outputs": [],
   "source": [
    "# Mode\n",
    "print(f'Mode is {df.salary_avg_estimate.mode()}')"
   ]
  },
  {
   "cell_type": "code",
   "execution_count": null,
   "metadata": {},
   "outputs": [],
   "source": [
    "# St Deviation\n",
    "#print(f'Standard Deviation is {df.salary_avg_estimate.std():.2f}')\n",
    "print(f'Standard Deviation is {np.std(avgSalary):.2f}')"
   ]
  },
  {
   "cell_type": "code",
   "execution_count": null,
   "metadata": {},
   "outputs": [],
   "source": [
    "# Variance\n",
    "#print(f'Variance is {df.salary_avg_estimate.var():.2f}')\n",
    "print(f'Variance is {np.var(avgSalary):.2f}')"
   ]
  },
  {
   "cell_type": "code",
   "execution_count": 10,
   "metadata": {},
   "outputs": [],
   "source": [
    "# save the Dataframe content to a CSV file \n",
    "df.to_csv('glassdoorJobs_Output.csv', index=False, header=True, sep=';', encoding='utf-8-sig')"
   ]
  }
 ],
 "metadata": {
  "kernelspec": {
   "display_name": "Python 3",
   "language": "python",
   "name": "python3"
  },
  "language_info": {
   "codemirror_mode": {
    "name": "ipython",
    "version": 3
   },
   "file_extension": ".py",
   "mimetype": "text/x-python",
   "name": "python",
   "nbconvert_exporter": "python",
   "pygments_lexer": "ipython3",
   "version": "3.11.9"
  }
 },
 "nbformat": 4,
 "nbformat_minor": 2
}
